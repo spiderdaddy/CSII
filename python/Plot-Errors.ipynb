{
 "cells": [
  {
   "cell_type": "code",
   "execution_count": null,
   "metadata": {},
   "outputs": [],
   "source": [
    "import numpy as np\n",
    "import pandas as pd\n",
    "import matplotlib.pyplot as plt\n",
    "from scipy import stats\n",
    "from sklearn.metrics import mean_squared_error\n",
    "from math import sqrt\n",
    "%matplotlib inline\n",
    "from scipy.stats import norm\n",
    "\n",
    "def plot_diff( tree, baseline, level ):\n",
    "    f, (ax1, ax2) = plt.subplots(ncols=2, nrows=1)\n",
    "    f.set_size_inches(h=5, w=10)\n",
    "\n",
    "    diff = tree - baseline\n",
    "    \n",
    "    mean, sigma = stats.norm.fit(diff[:][0])\n",
    "    n, bins, patches = ax1.hist(diff[:][0], bins=60, label=\"r\", density=True)\n",
    "#    ax1.set_xlim(-5*sigma, 5*sigma)\n",
    "#    ax1.set_ylim(0, np.max(n)*1.1)\n",
    "    ax1.set_title(r\"Distribution of error in $r$\")\n",
    "\n",
    "    gaussian = stats.norm.pdf(bins, mean, sigma)\n",
    "    ax1.plot(bins, gaussian, \"r-\", label=\"Gaussian\")\n",
    "    \n",
    "    mean, sigma = stats.laplace.fit(diff[:][0])\n",
    "    laplace = stats.laplace.pdf(bins, mean, sigma)\n",
    "    ax1.plot(bins, laplace, \"k-\", label=\"Laplace\")\n",
    "    ax1.legend()\n",
    "\n",
    "    \n",
    "    mean, sigma = stats.norm.fit(diff[:][1])\n",
    "    n, bins, patches = ax2.hist(diff[:][1], bins=60, label=\"theta\", density=True)\n",
    "#    ax2.set_xlim(-.45e-11,0.45e-11)\n",
    "#    ax2.set_ylim(0, 1e4)\n",
    "    ax2.set_title(r\"Distribution of error in $\\theta$\")\n",
    "        \n",
    "    gaussian = stats.norm.pdf(bins, mean, sigma)\n",
    "    ax2.plot(bins, gaussian, \"r-\", label=\"Gaussian\")\n",
    "    \n",
    "    mean, sigma = stats.laplace.fit(diff[:][1])\n",
    "    laplace = stats.laplace.pdf(bins, mean, sigma)\n",
    "    ax2.plot(bins, laplace, \"k-\", label=\"Laplace\")\n",
    "    ax2.legend()\n",
    "\n",
    "    rms_r = sqrt(mean_squared_error(tree[:][0], baseline[:][0]))\n",
    "    rms_t = sqrt(mean_squared_error(tree[:][1], baseline[:][1]))\n",
    "\n",
    "    plt.suptitle( r\"resolution=%s\\n rmse($r$)=%.3e, rmse($\\theta$)=%.3e\" % ( level, rms_r, rms_t ) )\n",
    "\n",
    "    plt.show()\n",
    "\n",
    "\n",
    "    \n"
   ]
  },
  {
   "cell_type": "code",
   "execution_count": null,
   "metadata": {},
   "outputs": [],
   "source": [
    "baseline = pd.read_csv( \"../cmake-build-debug/BruteForce-density.csv\", header=None)\n",
    "\n",
    "for i in [3,4,5,6,7]:\n",
    "    tree = pd.read_csv( \"../cmake-build-debug/result/PolarTree-res-density-%s.csv\" % i, header=None)\n",
    "    plot_diff(tree, baseline, i)\n"
   ]
  },
  {
   "cell_type": "code",
   "execution_count": null,
   "metadata": {},
   "outputs": [],
   "source": [
    "baseline = pd.read_csv( \"../cmake-build-debug/BruteForce-density_planet.csv\", header=None)\n",
    "\n",
    "for i in [3,4,5,6,7]:\n",
    "    tree = pd.read_csv( \"../cmake-build-debug/result/PolarTree-res-density_planet-%s.csv\" % i, header=None)\n",
    "    plot_diff(tree, baseline, i)\n"
   ]
  },
  {
   "cell_type": "code",
   "execution_count": null,
   "metadata": {},
   "outputs": [],
   "source": [
    "t_density = pd.read_csv( \"../cmake-build-debug/result/PolarTree-times-density.csv\", header=None)\n",
    "t_density_p = pd.read_csv( \"../cmake-build-debug/result/PolarTree-times-density_planet.csv\", header=None)\n",
    "\n",
    "f, ax = plt.subplots(ncols=1, nrows=1)\n",
    "f.set_size_inches(h=5, w=5)\n",
    "\n",
    "ax.plot(t_density[0], t_density[1], \"bo\", label=\"density\")\n",
    "ax.plot(t_density_p[0], t_density_p[1], \"rx\", label=\"density_planet\")\n",
    "plt.legend()\n",
    "plt.title(\"Time(ms) vs. resolution\")\n"
   ]
  },
  {
   "cell_type": "code",
   "execution_count": null,
   "metadata": {},
   "outputs": [],
   "source": []
  }
 ],
 "metadata": {
  "kernelspec": {
   "display_name": "Python 3",
   "language": "python",
   "name": "python3"
  },
  "language_info": {
   "codemirror_mode": {
    "name": "ipython",
    "version": 3
   },
   "file_extension": ".py",
   "mimetype": "text/x-python",
   "name": "python",
   "nbconvert_exporter": "python",
   "pygments_lexer": "ipython3",
   "version": "3.5.2"
  }
 },
 "nbformat": 4,
 "nbformat_minor": 2
}
